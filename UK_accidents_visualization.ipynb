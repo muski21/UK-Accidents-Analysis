{
  "nbformat": 4,
  "nbformat_minor": 0,
  "metadata": {
    "colab": {
      "name": "UK_accidents_visualization.ipynb",
      "provenance": []
    },
    "kernelspec": {
      "name": "python3",
      "display_name": "Python 3"
    }
  },
  "cells": [
    {
      "cell_type": "markdown",
      "metadata": {
        "id": "QgfqqLCjc_YP"
      },
      "source": [
        "# STEP1 : Import Libraries"
      ]
    },
    {
      "cell_type": "code",
      "metadata": {
        "id": "tsIkiXd9c-t8"
      },
      "source": [
        ""
      ],
      "execution_count": null,
      "outputs": []
    },
    {
      "cell_type": "markdown",
      "metadata": {
        "id": "MTx5RjybdIkk"
      },
      "source": [
        "# STEP2 : Download Dataset from Kaggle"
      ]
    },
    {
      "cell_type": "code",
      "metadata": {
        "id": "DsC1KigNdKvV"
      },
      "source": [
        ""
      ],
      "execution_count": null,
      "outputs": []
    },
    {
      "cell_type": "code",
      "metadata": {
        "id": "BzNdQdqBdLR5"
      },
      "source": [
        ""
      ],
      "execution_count": null,
      "outputs": []
    },
    {
      "cell_type": "code",
      "metadata": {
        "id": "dVkpPTW4dL1g"
      },
      "source": [
        ""
      ],
      "execution_count": null,
      "outputs": []
    },
    {
      "cell_type": "markdown",
      "metadata": {
        "id": "Jx0sDegiddrJ"
      },
      "source": [
        "# STEP3 : Load Data"
      ]
    },
    {
      "cell_type": "code",
      "metadata": {
        "id": "opQHuq90dhbo"
      },
      "source": [
        ""
      ],
      "execution_count": null,
      "outputs": []
    },
    {
      "cell_type": "code",
      "metadata": {
        "id": "6Dlcbx3qd6Y7"
      },
      "source": [
        ""
      ],
      "execution_count": null,
      "outputs": []
    },
    {
      "cell_type": "code",
      "metadata": {
        "id": "hJBvHc1Yd6is"
      },
      "source": [
        ""
      ],
      "execution_count": null,
      "outputs": []
    },
    {
      "cell_type": "code",
      "metadata": {
        "id": "ifse2E48d6t1"
      },
      "source": [
        ""
      ],
      "execution_count": null,
      "outputs": []
    },
    {
      "cell_type": "code",
      "metadata": {
        "id": "OleU6A2ad64G"
      },
      "source": [
        ""
      ],
      "execution_count": null,
      "outputs": []
    },
    {
      "cell_type": "markdown",
      "metadata": {
        "id": "zyHGsLKYd7OH"
      },
      "source": [
        "# STEP4: EDA"
      ]
    },
    {
      "cell_type": "markdown",
      "metadata": {
        "id": "frMZSt2meCzp"
      },
      "source": [
        "## What is the rate of road accidents (i.e. the number of casualties) in UK between 2005 - 2014?"
      ]
    },
    {
      "cell_type": "code",
      "metadata": {
        "id": "FMzxHwm8eJd1"
      },
      "source": [
        ""
      ],
      "execution_count": null,
      "outputs": []
    },
    {
      "cell_type": "code",
      "metadata": {
        "id": "EwLRX9N2eJnd"
      },
      "source": [
        ""
      ],
      "execution_count": null,
      "outputs": []
    },
    {
      "cell_type": "code",
      "metadata": {
        "id": "1w6_N2bIeJx_"
      },
      "source": [
        ""
      ],
      "execution_count": null,
      "outputs": []
    },
    {
      "cell_type": "markdown",
      "metadata": {
        "id": "hhAbu0tHeKJC"
      },
      "source": [
        "## What are the accident occurence rate in UK based on weekdays?"
      ]
    },
    {
      "cell_type": "code",
      "metadata": {
        "id": "5t1UZbXleOPd"
      },
      "source": [
        ""
      ],
      "execution_count": null,
      "outputs": []
    },
    {
      "cell_type": "code",
      "metadata": {
        "id": "YMM-LbZueOYv"
      },
      "source": [
        ""
      ],
      "execution_count": null,
      "outputs": []
    },
    {
      "cell_type": "code",
      "metadata": {
        "id": "4gmp2jf_eOhJ"
      },
      "source": [
        ""
      ],
      "execution_count": null,
      "outputs": []
    },
    {
      "cell_type": "markdown",
      "metadata": {
        "id": "iwjsOz_YeoCH"
      },
      "source": [
        "## How is the distribution of accident severity in UK, from 2005 - 2014?"
      ]
    },
    {
      "cell_type": "code",
      "metadata": {
        "id": "K3B0wlRJeq0-"
      },
      "source": [
        ""
      ],
      "execution_count": null,
      "outputs": []
    },
    {
      "cell_type": "code",
      "metadata": {
        "id": "Pvle5TSwe6m5"
      },
      "source": [
        ""
      ],
      "execution_count": null,
      "outputs": []
    },
    {
      "cell_type": "code",
      "metadata": {
        "id": "LQzY3B3he6xH"
      },
      "source": [
        ""
      ],
      "execution_count": null,
      "outputs": []
    },
    {
      "cell_type": "code",
      "metadata": {
        "id": "cy83upa0e670"
      },
      "source": [
        ""
      ],
      "execution_count": null,
      "outputs": []
    },
    {
      "cell_type": "code",
      "metadata": {
        "id": "NsXFR4Doe7GI"
      },
      "source": [
        ""
      ],
      "execution_count": null,
      "outputs": []
    },
    {
      "cell_type": "code",
      "metadata": {
        "id": "ohLrps2Ke7QU"
      },
      "source": [
        ""
      ],
      "execution_count": null,
      "outputs": []
    },
    {
      "cell_type": "markdown",
      "metadata": {
        "id": "l7zjsU0he7-r"
      },
      "source": [
        "## Which speed limit is closely associated with road accidents in UK, from 2005 - 2014?"
      ]
    },
    {
      "cell_type": "code",
      "metadata": {
        "id": "HJ71mqzqfA-v"
      },
      "source": [
        ""
      ],
      "execution_count": null,
      "outputs": []
    },
    {
      "cell_type": "code",
      "metadata": {
        "id": "EJrQ-_QUfEpM"
      },
      "source": [
        ""
      ],
      "execution_count": null,
      "outputs": []
    },
    {
      "cell_type": "markdown",
      "metadata": {
        "id": "tkG-_RgWfLdp"
      },
      "source": [
        "## Which road type has the highest rate of road accidents between 2005 - 2014?"
      ]
    },
    {
      "cell_type": "code",
      "metadata": {
        "id": "7nLJSVnlfQt5"
      },
      "source": [
        ""
      ],
      "execution_count": null,
      "outputs": []
    },
    {
      "cell_type": "code",
      "metadata": {
        "id": "eFsK9GyefQ2G"
      },
      "source": [
        ""
      ],
      "execution_count": null,
      "outputs": []
    }
  ]
}